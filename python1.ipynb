{
  "nbformat": 4,
  "nbformat_minor": 0,
  "metadata": {
    "colab": {
      "name": "python1.ipynb",
      "provenance": [],
      "collapsed_sections": [],
      "authorship_tag": "ABX9TyOhf6fjHp5OkEi7oO8PvFy/",
      "include_colab_link": true
    },
    "kernelspec": {
      "name": "python3",
      "display_name": "Python 3"
    },
    "language_info": {
      "name": "python"
    }
  },
  "cells": [
    {
      "cell_type": "markdown",
      "metadata": {
        "id": "view-in-github",
        "colab_type": "text"
      },
      "source": [
        "<a href=\"https://colab.research.google.com/github/20a85a0417/bootstrap/blob/main/python1.ipynb\" target=\"_parent\"><img src=\"https://colab.research.google.com/assets/colab-badge.svg\" alt=\"Open In Colab\"/></a>"
      ]
    },
    {
      "cell_type": "code",
      "metadata": {
        "id": "vG83hcGhMPL2",
        "colab": {
          "base_uri": "https://localhost:8080/"
        },
        "outputId": "a5de1d6e-7dcd-498c-9a2b-4b012d19ae84"
      },
      "source": [
        "a=20\n",
        "b=30\n",
        "c=a+b\n",
        "print(c)"
      ],
      "execution_count": null,
      "outputs": [
        {
          "output_type": "stream",
          "name": "stdout",
          "text": [
            "50\n"
          ]
        }
      ]
    },
    {
      "cell_type": "code",
      "metadata": {
        "colab": {
          "base_uri": "https://localhost:8080/"
        },
        "id": "fNiMj4sFNLVf",
        "outputId": "ce35c5ea-dfaf-4d31-c8ce-f61352ddf5dc"
      },
      "source": [
        "print(type(a))"
      ],
      "execution_count": null,
      "outputs": [
        {
          "output_type": "stream",
          "name": "stdout",
          "text": [
            "<class 'int'>\n"
          ]
        }
      ]
    },
    {
      "cell_type": "code",
      "metadata": {
        "colab": {
          "base_uri": "https://localhost:8080/"
        },
        "id": "M4xymxh7NYuu",
        "outputId": "d20a7410-01f5-40f8-cf3b-9feb32219544"
      },
      "source": [
        "print(id(a))"
      ],
      "execution_count": null,
      "outputs": [
        {
          "output_type": "stream",
          "name": "stdout",
          "text": [
            "94443163462752\n"
          ]
        }
      ]
    },
    {
      "cell_type": "markdown",
      "metadata": {
        "id": "4SAODLdj6UST"
      },
      "source": [
        "=> Print month in a calendar"
      ]
    },
    {
      "cell_type": "code",
      "metadata": {
        "colab": {
          "base_uri": "https://localhost:8080/"
        },
        "id": "tn4zO4TLODXG",
        "outputId": "43d908fa-dbcf-4ddc-d914-2150981cecd7"
      },
      "source": [
        "import calendar\n",
        "y=int(input(\"enter year\"))\n",
        "m=int(input(\"enter month\"))\n",
        "print(calendar.month(y,m))"
      ],
      "execution_count": null,
      "outputs": [
        {
          "output_type": "stream",
          "name": "stdout",
          "text": [
            "enter year2021\n",
            "enter month10\n",
            "    October 2021\n",
            "Mo Tu We Th Fr Sa Su\n",
            "             1  2  3\n",
            " 4  5  6  7  8  9 10\n",
            "11 12 13 14 15 16 17\n",
            "18 19 20 21 22 23 24\n",
            "25 26 27 28 29 30 31\n",
            "\n"
          ]
        }
      ]
    },
    {
      "cell_type": "markdown",
      "metadata": {
        "id": "h0UmskEO6MYc"
      },
      "source": [
        "=> Print total calendar"
      ]
    },
    {
      "cell_type": "code",
      "metadata": {
        "colab": {
          "base_uri": "https://localhost:8080/"
        },
        "id": "wclwxhdrPkBE",
        "outputId": "9e9ddf59-baad-465a-9577-74145808809b"
      },
      "source": [
        "import calendar\n",
        "y=int(input(\"enter year \"))\n",
        "print(calendar.calendar(y))"
      ],
      "execution_count": null,
      "outputs": [
        {
          "output_type": "stream",
          "name": "stdout",
          "text": [
            "enter year 2000\n",
            "                                  2000\n",
            "\n",
            "      January                   February                   March\n",
            "Mo Tu We Th Fr Sa Su      Mo Tu We Th Fr Sa Su      Mo Tu We Th Fr Sa Su\n",
            "                1  2          1  2  3  4  5  6             1  2  3  4  5\n",
            " 3  4  5  6  7  8  9       7  8  9 10 11 12 13       6  7  8  9 10 11 12\n",
            "10 11 12 13 14 15 16      14 15 16 17 18 19 20      13 14 15 16 17 18 19\n",
            "17 18 19 20 21 22 23      21 22 23 24 25 26 27      20 21 22 23 24 25 26\n",
            "24 25 26 27 28 29 30      28 29                     27 28 29 30 31\n",
            "31\n",
            "\n",
            "       April                      May                       June\n",
            "Mo Tu We Th Fr Sa Su      Mo Tu We Th Fr Sa Su      Mo Tu We Th Fr Sa Su\n",
            "                1  2       1  2  3  4  5  6  7                1  2  3  4\n",
            " 3  4  5  6  7  8  9       8  9 10 11 12 13 14       5  6  7  8  9 10 11\n",
            "10 11 12 13 14 15 16      15 16 17 18 19 20 21      12 13 14 15 16 17 18\n",
            "17 18 19 20 21 22 23      22 23 24 25 26 27 28      19 20 21 22 23 24 25\n",
            "24 25 26 27 28 29 30      29 30 31                  26 27 28 29 30\n",
            "\n",
            "        July                     August                  September\n",
            "Mo Tu We Th Fr Sa Su      Mo Tu We Th Fr Sa Su      Mo Tu We Th Fr Sa Su\n",
            "                1  2          1  2  3  4  5  6                   1  2  3\n",
            " 3  4  5  6  7  8  9       7  8  9 10 11 12 13       4  5  6  7  8  9 10\n",
            "10 11 12 13 14 15 16      14 15 16 17 18 19 20      11 12 13 14 15 16 17\n",
            "17 18 19 20 21 22 23      21 22 23 24 25 26 27      18 19 20 21 22 23 24\n",
            "24 25 26 27 28 29 30      28 29 30 31               25 26 27 28 29 30\n",
            "31\n",
            "\n",
            "      October                   November                  December\n",
            "Mo Tu We Th Fr Sa Su      Mo Tu We Th Fr Sa Su      Mo Tu We Th Fr Sa Su\n",
            "                   1             1  2  3  4  5                   1  2  3\n",
            " 2  3  4  5  6  7  8       6  7  8  9 10 11 12       4  5  6  7  8  9 10\n",
            " 9 10 11 12 13 14 15      13 14 15 16 17 18 19      11 12 13 14 15 16 17\n",
            "16 17 18 19 20 21 22      20 21 22 23 24 25 26      18 19 20 21 22 23 24\n",
            "23 24 25 26 27 28 29      27 28 29 30               25 26 27 28 29 30 31\n",
            "30 31\n",
            "\n"
          ]
        }
      ]
    },
    {
      "cell_type": "code",
      "metadata": {
        "colab": {
          "base_uri": "https://localhost:8080/"
        },
        "id": "hbn1_XpPQ0jW",
        "outputId": "c4897bdd-44ab-4fb7-c83a-a4f945b44ed1"
      },
      "source": [
        "r=int(input(\"enter value\"))\n",
        "pi=float(input(\"enter pi value\"))\n",
        "volume=4/3*pi*(r*r*r)\n",
        "print(\"v=\",volume)\n",
        "\n"
      ],
      "execution_count": null,
      "outputs": [
        {
          "output_type": "stream",
          "name": "stdout",
          "text": [
            "enter value2\n",
            "enter pi value3.14\n",
            "v= 33.49333333333333\n"
          ]
        }
      ]
    },
    {
      "cell_type": "code",
      "metadata": {
        "id": "XyGyBTQsSWb8",
        "colab": {
          "base_uri": "https://localhost:8080/"
        },
        "outputId": "06314033-8307-4ee3-a424-74baf7498cf3"
      },
      "source": [
        "print(not(2>3 and 5<4 or 3<6))"
      ],
      "execution_count": null,
      "outputs": [
        {
          "output_type": "stream",
          "name": "stdout",
          "text": [
            "False\n"
          ]
        }
      ]
    },
    {
      "cell_type": "code",
      "metadata": {
        "colab": {
          "base_uri": "https://localhost:8080/"
        },
        "id": "jidCFhXg_kLT",
        "outputId": "c6130480-eaf8-4006-d53b-24c43bb4916c"
      },
      "source": [
        "a,b,c=8,9,\"kalyan\"\n",
        "print(a,b,c)"
      ],
      "execution_count": null,
      "outputs": [
        {
          "output_type": "stream",
          "name": "stdout",
          "text": [
            "8 9 kalyan\n"
          ]
        }
      ]
    },
    {
      "cell_type": "code",
      "metadata": {
        "colab": {
          "base_uri": "https://localhost:8080/"
        },
        "id": "JbrMrKX8AK1V",
        "outputId": "fa456bd0-d4d6-473e-9261-6bb7c9bb6d08"
      },
      "source": [
        "a=2\n",
        "b=[1,2,3,4]\n",
        "print(a in b)\n",
        "print(a not in b)"
      ],
      "execution_count": null,
      "outputs": [
        {
          "output_type": "stream",
          "name": "stdout",
          "text": [
            "True\n",
            "False\n"
          ]
        }
      ]
    },
    {
      "cell_type": "code",
      "metadata": {
        "colab": {
          "base_uri": "https://localhost:8080/"
        },
        "id": "0DX-PPOCCoUc",
        "outputId": "58c47387-bcc4-47c3-a181-fc5c26e7da41"
      },
      "source": [
        "#identity operator\n",
        "#is\n",
        "#is not\n",
        "a=3\n",
        "b=2\n",
        "print(a is b)\n",
        "print(a is not b)"
      ],
      "execution_count": null,
      "outputs": [
        {
          "output_type": "stream",
          "name": "stdout",
          "text": [
            "False\n",
            "True\n"
          ]
        }
      ]
    },
    {
      "cell_type": "markdown",
      "metadata": {
        "id": "fTUnLncu6BQb"
      },
      "source": [
        "=> Assignment operator"
      ]
    },
    {
      "cell_type": "code",
      "metadata": {
        "colab": {
          "base_uri": "https://localhost:8080/"
        },
        "id": "F9tb9SGXDUsj",
        "outputId": "ebdc4c7e-9886-4720-b2e1-6463d3f5bad9"
      },
      "source": [
        "a=8\n",
        "b=2\n",
        "a+=b\n",
        "b=a+b\n",
        "print(a)\n",
        "print(b)"
      ],
      "execution_count": null,
      "outputs": [
        {
          "output_type": "stream",
          "name": "stdout",
          "text": [
            "10\n",
            "12\n"
          ]
        }
      ]
    },
    {
      "cell_type": "markdown",
      "metadata": {
        "id": "uVn9Cq8L5-GX"
      },
      "source": [
        "=> Floor division"
      ]
    },
    {
      "cell_type": "code",
      "metadata": {
        "colab": {
          "base_uri": "https://localhost:8080/"
        },
        "id": "8EmAm1TBGDf7",
        "outputId": "aefea9c9-34c4-4503-ad19-f86147120482"
      },
      "source": [
        "a=8\n",
        "b=4\n",
        "c=2\n",
        "a=a*b\n",
        "b=a-b\n",
        "c=a//b\n",
        "print(a)\n",
        "print(b)\n",
        "print(c)"
      ],
      "execution_count": null,
      "outputs": [
        {
          "output_type": "stream",
          "name": "stdout",
          "text": [
            "32\n",
            "28\n",
            "1\n"
          ]
        }
      ]
    },
    {
      "cell_type": "markdown",
      "metadata": {
        "id": "KCWBjuTo5pJd"
      },
      "source": [
        "=> Floor division"
      ]
    },
    {
      "cell_type": "code",
      "metadata": {
        "colab": {
          "base_uri": "https://localhost:8080/"
        },
        "id": "0MDb9yTDHNrg",
        "outputId": "a5c2ba97-6aef-4ed7-cf5b-6ae34ae7c703"
      },
      "source": [
        "a=10.25\n",
        "b=5\n",
        "a=a//b\n",
        "print(a)"
      ],
      "execution_count": null,
      "outputs": [
        {
          "output_type": "stream",
          "name": "stdout",
          "text": [
            "2.0\n"
          ]
        }
      ]
    },
    {
      "cell_type": "code",
      "metadata": {
        "colab": {
          "base_uri": "https://localhost:8080/"
        },
        "id": "oTxi_WgrINMd",
        "outputId": "c281ed0d-009a-4181-c60e-cc07f72b551f"
      },
      "source": [
        "#bitwise operator\n",
        "a=65\n",
        "print(chr(a))"
      ],
      "execution_count": null,
      "outputs": [
        {
          "output_type": "stream",
          "name": "stdout",
          "text": [
            "A\n"
          ]
        }
      ]
    },
    {
      "cell_type": "markdown",
      "metadata": {
        "id": "GHMP0BMs5iKe"
      },
      "source": [
        "=> ASCII order"
      ]
    },
    {
      "cell_type": "code",
      "metadata": {
        "colab": {
          "base_uri": "https://localhost:8080/"
        },
        "id": "GaxI7OTDJGdC",
        "outputId": "19ab33dd-2119-4623-9197-010d151f6194"
      },
      "source": [
        "x='a'\n",
        "print(ord(x))"
      ],
      "execution_count": null,
      "outputs": [
        {
          "output_type": "stream",
          "name": "stdout",
          "text": [
            "97\n"
          ]
        }
      ]
    },
    {
      "cell_type": "code",
      "metadata": {
        "colab": {
          "base_uri": "https://localhost:8080/"
        },
        "id": "F-mYvpFjJcbg",
        "outputId": "b2768a85-cdad-4071-9b54-102af2687349"
      },
      "source": [
        "a=4\n",
        "b=2\n",
        "c=a|b\n",
        "print(c)"
      ],
      "execution_count": null,
      "outputs": [
        {
          "output_type": "stream",
          "name": "stdout",
          "text": [
            "6\n"
          ]
        }
      ]
    },
    {
      "cell_type": "markdown",
      "metadata": {
        "id": "oJ8hbscf5Xti"
      },
      "source": [
        "=> OR program"
      ]
    },
    {
      "cell_type": "code",
      "metadata": {
        "colab": {
          "base_uri": "https://localhost:8080/"
        },
        "id": "TYkvaZMjLmL0",
        "outputId": "aa7dddd6-9899-4d4b-b422-f5698078194d"
      },
      "source": [
        "a=int(input(\"enter a value\"))\n",
        "b=int(input(\"enter b value\"))\n",
        "print(a)\n",
        "print(b)\n",
        "c=a|b\n",
        "print(c)"
      ],
      "execution_count": null,
      "outputs": [
        {
          "output_type": "stream",
          "name": "stdout",
          "text": [
            "enter a value2\n",
            "enter b value4\n",
            "2\n",
            "4\n",
            "6\n"
          ]
        }
      ]
    },
    {
      "cell_type": "code",
      "metadata": {
        "id": "yf_XHSxVLmOQ",
        "colab": {
          "base_uri": "https://localhost:8080/"
        },
        "outputId": "c1486231-fee6-4b2c-cb81-8514002a4974"
      },
      "source": [
        "a=10\n",
        "b=not a\n",
        "print(b)"
      ],
      "execution_count": null,
      "outputs": [
        {
          "output_type": "stream",
          "name": "stdout",
          "text": [
            "False\n"
          ]
        }
      ]
    },
    {
      "cell_type": "markdown",
      "metadata": {
        "id": "UV9ZKwjUxUx4"
      },
      "source": [
        "simple if program"
      ]
    },
    {
      "cell_type": "code",
      "metadata": {
        "colab": {
          "base_uri": "https://localhost:8080/"
        },
        "id": "W-ufjApk_dp8",
        "outputId": "b5a9b54d-0af0-4056-a01b-07b46b2c92b3"
      },
      "source": [
        "a=int(input(\"a value is \"))\n",
        "if(a<1000):\n",
        "  print(a)\n",
        "else:\n",
        "  print(\"pora pusky\")"
      ],
      "execution_count": null,
      "outputs": [
        {
          "output_type": "stream",
          "name": "stdout",
          "text": [
            "a value is 800\n",
            "800\n"
          ]
        }
      ]
    },
    {
      "cell_type": "markdown",
      "metadata": {
        "id": "wtHvtLo4xO0h"
      },
      "source": [
        "even or odd program"
      ]
    },
    {
      "cell_type": "code",
      "metadata": {
        "colab": {
          "base_uri": "https://localhost:8080/"
        },
        "id": "BTMaMTAJCLFV",
        "outputId": "b1f96545-56d4-42f1-a279-8da3714dd689"
      },
      "source": [
        "a=int(input(\"a value is \"))\n",
        "if(a%2==0):\n",
        "  print(\"even\")\n",
        "else:\n",
        "  print(\"odd\")"
      ],
      "execution_count": null,
      "outputs": [
        {
          "output_type": "stream",
          "name": "stdout",
          "text": [
            "a value is 8\n",
            "even\n"
          ]
        }
      ]
    },
    {
      "cell_type": "code",
      "metadata": {
        "colab": {
          "base_uri": "https://localhost:8080/"
        },
        "id": "EjcZICE_DUi6",
        "outputId": "a30fa99f-7a3d-40b1-b70f-ef0892da7fe4"
      },
      "source": [
        "a=int(input(\"a value is \"))\n",
        "if(a%2==0):\n",
        "  print(\"even\")\n",
        "else:\n",
        "  print(\"odd\")"
      ],
      "execution_count": null,
      "outputs": [
        {
          "output_type": "stream",
          "name": "stdout",
          "text": [
            "a value is 1\n",
            "odd\n"
          ]
        }
      ]
    },
    {
      "cell_type": "markdown",
      "metadata": {
        "id": "cbHBatR9xI_x"
      },
      "source": [
        "leap year program"
      ]
    },
    {
      "cell_type": "code",
      "metadata": {
        "colab": {
          "base_uri": "https://localhost:8080/"
        },
        "id": "G3XFYi54Dkah",
        "outputId": "2f6fb052-65f7-4b1c-a8a5-3d510f24cb84"
      },
      "source": [
        "year=int(input(\"year is \"))\n",
        "if(year%4==0):\n",
        "  print(\"leap year\")\n",
        "else:\n",
        "  print(\"not a leap year\")"
      ],
      "execution_count": null,
      "outputs": [
        {
          "output_type": "stream",
          "name": "stdout",
          "text": [
            "year is 2000\n",
            "leap year\n"
          ]
        }
      ]
    },
    {
      "cell_type": "markdown",
      "metadata": {
        "id": "JU7NSKHw5MYG"
      },
      "source": [
        "=> Biggest of 2 numbers"
      ]
    },
    {
      "cell_type": "code",
      "metadata": {
        "colab": {
          "base_uri": "https://localhost:8080/"
        },
        "id": "l-sHZ1AxFNBy",
        "outputId": "9bc82984-a767-433e-9558-22c4fbeb5e3a"
      },
      "source": [
        "a=int(input(\"a is\"))\n",
        "b=int(input(\"b is\"))\n",
        "if(a>b):\n",
        "  print(\"a is biggest\",a)\n",
        "else:\n",
        "  print(\"b is biggest\",b)\n",
        "\n"
      ],
      "execution_count": null,
      "outputs": [
        {
          "output_type": "stream",
          "name": "stdout",
          "text": [
            "a is4\n",
            "b is8\n",
            "b is biggest 8\n"
          ]
        }
      ]
    },
    {
      "cell_type": "markdown",
      "metadata": {
        "id": "XHBd6C8Kw3Mi"
      },
      "source": [
        "biggest of 3 using elif"
      ]
    },
    {
      "cell_type": "code",
      "metadata": {
        "colab": {
          "base_uri": "https://localhost:8080/"
        },
        "id": "-KJXitZyHRgq",
        "outputId": "3f7e7d94-5d6e-4946-df08-c04a43d86ae0"
      },
      "source": [
        "a=int(input(\"a is \"))\n",
        "b=int(input(\"b is \"))\n",
        "c=int(input(\"c is \"))\n",
        "if(a>b):\n",
        "  print(\"a is big \",a)\n",
        "elif(b>c):\n",
        "  print(\"b is big \",b)\n",
        "elif(c>a):\n",
        "  print(\"c is big \",c)"
      ],
      "execution_count": null,
      "outputs": [
        {
          "output_type": "stream",
          "name": "stdout",
          "text": [
            "a is 4\n",
            "b is 6\n",
            "c is 2\n",
            "b is big  6\n"
          ]
        }
      ]
    },
    {
      "cell_type": "markdown",
      "metadata": {
        "id": "C--rlKrMw94B"
      },
      "source": [
        "electricity bill units program"
      ]
    },
    {
      "cell_type": "code",
      "metadata": {
        "colab": {
          "base_uri": "https://localhost:8080/"
        },
        "id": "sCW-BtteI-AJ",
        "outputId": "1aac8c4a-3346-44b8-e515-0c6820ecdf6a"
      },
      "source": [
        "f=int(input(\"final bill is \"))\n",
        "i=int(input(\"initial bill is \"))\n",
        "con=f-i\n",
        "print(\"con \",con)\n",
        "if(con>200 and con<400):\n",
        "  total=con*3.00\n",
        "  print(\"total\",total)\n",
        "elif(con>50 and con<200):\n",
        "  total=con*2.00\n",
        "  print(\"total\",total)\n",
        "elif(con<50):\n",
        "  total=con*1.00\n",
        "  print(\"total \",total)"
      ],
      "execution_count": null,
      "outputs": [
        {
          "output_type": "stream",
          "name": "stdout",
          "text": [
            "final bill is 400\n",
            "initial bill is 300\n",
            "con  100\n",
            "total 200.0\n"
          ]
        }
      ]
    },
    {
      "cell_type": "markdown",
      "metadata": {
        "id": "Tmw37Kh_wo5S"
      },
      "source": [
        "biggest of 3 num using if else"
      ]
    },
    {
      "cell_type": "code",
      "metadata": {
        "colab": {
          "base_uri": "https://localhost:8080/"
        },
        "id": "qflUNgafUNLd",
        "outputId": "536723cc-2b84-41ca-e4a3-a640340954ce"
      },
      "source": [
        "a=int(input(\"a is \"))\n",
        "b=int(input(\"a is \"))\n",
        "c=int(input(\"c is \"))\n",
        "if(a>b):\n",
        "  print(\"a is big\",a)\n",
        "else:\n",
        "  print(\"b is big\",b)\n",
        "if(b>c):\n",
        "  print('b is big',b)\n",
        "else:\n",
        "  print(\"c is big\",c)\n",
        "if(c>a):\n",
        "  print(\"c is big\",c)\n",
        "else:\n",
        "  print(\"a is big\",a)\n"
      ],
      "execution_count": null,
      "outputs": [
        {
          "output_type": "stream",
          "name": "stdout",
          "text": [
            "a is 8\n",
            "a is 4\n",
            "c is 6\n",
            "a is big 8\n",
            "c is big 6\n",
            "a is big 8\n"
          ]
        }
      ]
    },
    {
      "cell_type": "markdown",
      "metadata": {
        "id": "bmWNq8gQwbeh"
      },
      "source": [
        "biggest of 3 numbers using nested if"
      ]
    },
    {
      "cell_type": "code",
      "metadata": {
        "colab": {
          "base_uri": "https://localhost:8080/"
        },
        "id": "buACvIUCVxY7",
        "outputId": "77416b68-067e-463a-aca0-d88752665bb5"
      },
      "source": [
        "a=int(input(\"a is \"))\n",
        "b=int(input(\"b is \"))\n",
        "c=int(input(\"c is \"))\n",
        "if(a>b):\n",
        "  if(a>c):\n",
        "    print(\"a is biggest\")\n",
        "elif(b>c):\n",
        "  print(\"b is biggest\")\n",
        "else:\n",
        "  print(\"c is biggest\")"
      ],
      "execution_count": null,
      "outputs": [
        {
          "output_type": "stream",
          "name": "stdout",
          "text": [
            "a is 8\n",
            "b is 4\n",
            "c is 6\n",
            "a is biggest\n"
          ]
        }
      ]
    },
    {
      "cell_type": "markdown",
      "metadata": {
        "id": "MYbHlO4R5HXJ"
      },
      "source": [
        "=> List methods"
      ]
    },
    {
      "cell_type": "code",
      "metadata": {
        "colab": {
          "base_uri": "https://localhost:8080/"
        },
        "id": "hBeMuxnX1ZRB",
        "outputId": "a4244eea-8b7f-4e41-ca52-a9045edbac8c"
      },
      "source": [
        "a=[1,2,3,4,5]\n",
        "print(a)\n",
        "print(a[1])\n",
        "print(len(a))\n",
        "print(a.count(4))\n",
        "a.append(6)\n",
        "print(a)\n",
        "a.insert(6,8)\n",
        "print(a)\n",
        "a.pop()\n",
        "print(a)\n",
        "a.pop(3)\n",
        "print(a)\n",
        "a.remove(5)\n",
        "print(a)\n",
        "b=[2,4,6]\n",
        "c=[1,2,3]\n",
        "print(b+c)\n",
        "print(b*2)\n",
        "b.extend(c)\n",
        "print(b)\n",
        "print(type(a))\n",
        "a.reverse()\n",
        "print(a)"
      ],
      "execution_count": null,
      "outputs": [
        {
          "output_type": "stream",
          "name": "stdout",
          "text": [
            "[1, 2, 3, 4, 5]\n",
            "2\n",
            "5\n",
            "1\n",
            "[1, 2, 3, 4, 5, 6]\n",
            "[1, 2, 3, 4, 5, 6, 8]\n",
            "[1, 2, 3, 4, 5, 6]\n",
            "[1, 2, 3, 5, 6]\n",
            "[1, 2, 3, 6]\n",
            "[2, 4, 6, 1, 2, 3]\n",
            "[2, 4, 6, 2, 4, 6]\n",
            "[2, 4, 6, 1, 2, 3]\n",
            "<class 'list'>\n",
            "[6, 3, 2, 1]\n"
          ]
        }
      ]
    },
    {
      "cell_type": "markdown",
      "metadata": {
        "id": "u1Aez5RE5E53"
      },
      "source": [
        "=> List methods"
      ]
    },
    {
      "cell_type": "code",
      "metadata": {
        "colab": {
          "base_uri": "https://localhost:8080/"
        },
        "id": "NW0moy9M6ZYv",
        "outputId": "6f5b4a6d-19f4-4490-bb75-1edff6350edb"
      },
      "source": [
        "a=[6,5,8,2,0]\n",
        "a.sort()\n",
        "print(a)\n",
        "b=[1,2,3,[4,5.6,6],7]\n",
        "print(b)\n",
        "c=[1,2,3,'kalyan',b]\n",
        "print(c)\n",
        "d='''kalyan\n",
        "svec\n",
        "ece\n",
        "b'''\n",
        "print(d)\n",
        "e=[1,2,3]\n",
        "print(e.index(2))\n",
        "f=[1]\n",
        "print(f in e)\n",
        "g=[1,2,3,4,5,6,7,8,9,0]\n",
        "for i in g:\n",
        "  print(i)"
      ],
      "execution_count": null,
      "outputs": [
        {
          "output_type": "stream",
          "name": "stdout",
          "text": [
            "[0, 2, 5, 6, 8]\n",
            "[1, 2, 3, [4, 5.6, 6], 7]\n",
            "[1, 2, 3, 'kalyan', [1, 2, 3, [4, 5.6, 6], 7]]\n",
            "kalyan\n",
            "svec\n",
            "ece\n",
            "b\n",
            "1\n",
            "False\n",
            "1\n",
            "2\n",
            "3\n",
            "4\n",
            "5\n",
            "6\n",
            "7\n",
            "8\n",
            "9\n",
            "0\n"
          ]
        }
      ]
    },
    {
      "cell_type": "markdown",
      "metadata": {
        "id": "h2PyvPrE44ld"
      },
      "source": [
        "=> Separating odd and even in a list"
      ]
    },
    {
      "cell_type": "code",
      "metadata": {
        "colab": {
          "base_uri": "https://localhost:8080/"
        },
        "id": "9yO-rP29-PB9",
        "outputId": "7fd8a3e1-4f54-4426-e7c5-86de9adfa705"
      },
      "source": [
        "q=[1,2,3,4,5,6,7,8,9,10]\n",
        "for i in q:\n",
        "  if(i%2==0):\n",
        "    print(i,\"even\")\n",
        "  else:\n",
        "    print(i,\"odd\")"
      ],
      "execution_count": null,
      "outputs": [
        {
          "output_type": "stream",
          "name": "stdout",
          "text": [
            "1 odd\n",
            "2 even\n",
            "3 odd\n",
            "4 even\n",
            "5 odd\n",
            "6 even\n",
            "7 odd\n",
            "8 even\n",
            "9 odd\n",
            "10 even\n"
          ]
        }
      ]
    },
    {
      "cell_type": "markdown",
      "metadata": {
        "id": "r8Wl4CaX4zbB"
      },
      "source": [
        "=> Clear list"
      ]
    },
    {
      "cell_type": "code",
      "metadata": {
        "colab": {
          "base_uri": "https://localhost:8080/"
        },
        "id": "BXF_PNWkCcqc",
        "outputId": "1cc79b30-4e16-49b2-d4d2-ebfe4c86bf73"
      },
      "source": [
        "a=[2,4,6,8,0]\n",
        "b=[2,4,6,8,0]\n",
        "a.clear()\n",
        "print(a)"
      ],
      "execution_count": null,
      "outputs": [
        {
          "output_type": "stream",
          "name": "stdout",
          "text": [
            "[]\n"
          ]
        }
      ]
    },
    {
      "cell_type": "markdown",
      "metadata": {
        "id": "PeqYZiOr4uD8"
      },
      "source": [
        "=> Step pattern"
      ]
    },
    {
      "cell_type": "code",
      "metadata": {
        "colab": {
          "base_uri": "https://localhost:8080/"
        },
        "id": "7ivda4FZE_9a",
        "outputId": "6b037f0c-497b-4a94-a850-df1c46f38841"
      },
      "source": [
        "n=3\n",
        "for i in range(1,n+1):\n",
        "  for j in range(1,i+1):\n",
        "    print(i,end = \" \")\n",
        "  print()"
      ],
      "execution_count": null,
      "outputs": [
        {
          "output_type": "stream",
          "name": "stdout",
          "text": [
            "1 \n",
            "2 2 \n",
            "3 3 3 \n"
          ]
        }
      ]
    },
    {
      "cell_type": "markdown",
      "metadata": {
        "id": "aGCzlL7c4kNZ"
      },
      "source": [
        "=> Kinguu pattern"
      ]
    },
    {
      "cell_type": "code",
      "metadata": {
        "colab": {
          "base_uri": "https://localhost:8080/"
        },
        "id": "2WJaFOYxMdGX",
        "outputId": "26185565-189a-4f33-ebbf-75b926125934"
      },
      "source": [
        "n=3\n",
        "for i in range(1,n+1):\n",
        "  for j in range(1,n+1):\n",
        "    print(\"kinguu\",end = \" \")\n",
        "  print()"
      ],
      "execution_count": null,
      "outputs": [
        {
          "output_type": "stream",
          "name": "stdout",
          "text": [
            "kinguu kinguu kinguu \n",
            "kinguu kinguu kinguu \n",
            "kinguu kinguu kinguu \n"
          ]
        }
      ]
    },
    {
      "cell_type": "markdown",
      "metadata": {
        "id": "Drn3o9GI4WRC"
      },
      "source": [
        "=> \"+\" star pattern"
      ]
    },
    {
      "cell_type": "code",
      "metadata": {
        "colab": {
          "base_uri": "https://localhost:8080/"
        },
        "id": "lIC0uYR5M1o_",
        "outputId": "70b3f37b-e27f-4836-d61c-383fe6d1c45d"
      },
      "source": [
        "n=5\n",
        "for i in range(1,n+1):\n",
        "  for j in range(1,n+1):\n",
        "    if(i==3 or j==3):\n",
        "     print(\"*\",end = \" \")\n",
        "    else:\n",
        "      print(\" \",end =\" \")\n",
        "  print()"
      ],
      "execution_count": null,
      "outputs": [
        {
          "output_type": "stream",
          "name": "stdout",
          "text": [
            "    *     \n",
            "    *     \n",
            "* * * * * \n",
            "    *     \n",
            "    *     \n"
          ]
        }
      ]
    },
    {
      "cell_type": "code",
      "metadata": {
        "colab": {
          "base_uri": "https://localhost:8080/"
        },
        "id": "Dw4q8OvG8tZd",
        "outputId": "b80ef256-7eda-45bd-dfa9-3003716358d6"
      },
      "source": [
        "a=[1,2,3,4,5]\n",
        "print(a)\n",
        "a[2]=25\n",
        "print(a)"
      ],
      "execution_count": null,
      "outputs": [
        {
          "output_type": "stream",
          "name": "stdout",
          "text": [
            "[1, 2, 3, 4, 5]\n",
            "[1, 2, 25, 4, 5]\n"
          ]
        }
      ]
    },
    {
      "cell_type": "markdown",
      "metadata": {
        "id": "ePE74WbZ4RYI"
      },
      "source": [
        "=> List methods"
      ]
    },
    {
      "cell_type": "code",
      "metadata": {
        "colab": {
          "base_uri": "https://localhost:8080/"
        },
        "id": "4I5tM0ok93j1",
        "outputId": "7e827867-4386-447d-9448-f25d898f8d10"
      },
      "source": [
        "a=[1,3,5,7,9]\n",
        "b=[2,4,6,8,10]\n",
        "c=a+b\n",
        "print(c)\n",
        "c.sort()\n",
        "print(c)\n",
        "d=[\"vijay\",\"kalyan\"]\n",
        "d.sort()\n",
        "print(d)"
      ],
      "execution_count": null,
      "outputs": [
        {
          "output_type": "stream",
          "name": "stdout",
          "text": [
            "[1, 3, 5, 7, 9, 2, 4, 6, 8, 10]\n",
            "[1, 2, 3, 4, 5, 6, 7, 8, 9, 10]\n",
            "['kalyan', 'vijay']\n"
          ]
        }
      ]
    },
    {
      "cell_type": "markdown",
      "metadata": {
        "id": "6JvT3coO4KX9"
      },
      "source": [
        "=> List methods"
      ]
    },
    {
      "cell_type": "code",
      "metadata": {
        "colab": {
          "base_uri": "https://localhost:8080/"
        },
        "id": "E6YrfZAG_QJk",
        "outputId": "6df1d161-fd8e-484f-e95e-b6772b756e8a"
      },
      "source": [
        "a=[1,2,3,4,5]\n",
        "b=[5,4,3,2,1]\n",
        "b=a.copy()\n",
        "print(b)\n",
        "a=list(b)\n",
        "print(a)\n",
        "print(b[-1])\n",
        "print(b[1])\n",
        "print(b[1:])\n",
        "print(b[1:3])\n",
        "print(b[:3])"
      ],
      "execution_count": null,
      "outputs": [
        {
          "output_type": "stream",
          "name": "stdout",
          "text": [
            "[1, 2, 3, 4, 5]\n",
            "[1, 2, 3, 4, 5]\n",
            "5\n",
            "2\n",
            "[2, 3, 4, 5]\n",
            "[2, 3]\n",
            "[1, 2, 3]\n"
          ]
        }
      ]
    },
    {
      "cell_type": "markdown",
      "metadata": {
        "id": "0M9ARMGd4Aql"
      },
      "source": [
        "=> List checking"
      ]
    },
    {
      "cell_type": "code",
      "metadata": {
        "colab": {
          "base_uri": "https://localhost:8080/"
        },
        "id": "qBqWzv3uDNfr",
        "outputId": "41a52861-8b66-4bdb-ac67-128e6f91724a"
      },
      "source": [
        "a=1\n",
        "b=[1,2,3,4,5]\n",
        "print(a in b)"
      ],
      "execution_count": null,
      "outputs": [
        {
          "output_type": "stream",
          "name": "stdout",
          "text": [
            "True\n"
          ]
        }
      ]
    },
    {
      "cell_type": "markdown",
      "metadata": {
        "id": "2kfBY71135_G"
      },
      "source": [
        "=> string steps program"
      ]
    },
    {
      "cell_type": "code",
      "metadata": {
        "colab": {
          "base_uri": "https://localhost:8080/"
        },
        "id": "ZUUsTnmBBhz8",
        "outputId": "83de7d66-7ba7-48a4-9bad-e1f4599b28b3"
      },
      "source": [
        "n=input(\"enter [string]\")\n",
        "x=\" \"\n",
        "for i in n:\n",
        "  x=x+i\n",
        "  print(x)"
      ],
      "execution_count": null,
      "outputs": [
        {
          "output_type": "stream",
          "name": "stdout",
          "text": [
            "enter [string]vasavi\n",
            " v\n",
            " va\n",
            " vas\n",
            " vasa\n",
            " vasav\n",
            " vasavi\n"
          ]
        }
      ]
    },
    {
      "cell_type": "markdown",
      "metadata": {
        "id": "OG4WvUDr3vdX"
      },
      "source": [
        "=> String step program"
      ]
    },
    {
      "cell_type": "code",
      "metadata": {
        "colab": {
          "base_uri": "https://localhost:8080/"
        },
        "id": "cPo1g_6YGICI",
        "outputId": "655c6f96-acd8-4340-b164-eca62d16f890"
      },
      "source": [
        "n=input(\"enter[string] \")\n",
        "x=len(n)\n",
        "for i in range(x):\n",
        " print(n[:i+1])"
      ],
      "execution_count": null,
      "outputs": [
        {
          "output_type": "stream",
          "name": "stdout",
          "text": [
            "enter[string] kingu\n",
            "k\n",
            "ki\n",
            "kin\n",
            "king\n",
            "kingu\n"
          ]
        }
      ]
    },
    {
      "cell_type": "markdown",
      "metadata": {
        "id": "-vWQk2WW3oVC"
      },
      "source": [
        "=> Star box pattern"
      ]
    },
    {
      "cell_type": "code",
      "metadata": {
        "colab": {
          "base_uri": "https://localhost:8080/"
        },
        "id": "fz4WWCF6IjkO",
        "outputId": "5e3f7fc0-6759-426a-b6e2-08dfe11e29f0"
      },
      "source": [
        "n=int(input(\"enter n \"))\n",
        "for i in range(1,n+1):\n",
        "  for j in range(1,n+1):\n",
        "    if(i==1 or i==n or j==1 or j==n):\n",
        "      print(\"*\",end= \" \")\n",
        "    else:\n",
        "      print(\" \",end= \" \")\n",
        "  print()"
      ],
      "execution_count": null,
      "outputs": [
        {
          "output_type": "stream",
          "name": "stdout",
          "text": [
            "enter n 3\n",
            "* * * \n",
            "*   * \n",
            "* * * \n"
          ]
        }
      ]
    },
    {
      "cell_type": "markdown",
      "metadata": {
        "id": "_I6ju1hD3hKg"
      },
      "source": [
        "=> Star box pattern with dollar"
      ]
    },
    {
      "cell_type": "code",
      "metadata": {
        "colab": {
          "base_uri": "https://localhost:8080/"
        },
        "id": "DHwhpUtFLyxj",
        "outputId": "8edb9be2-cdfa-4ca2-dc55-14bec38b2345"
      },
      "source": [
        "n=int(input(\"enter n \"))\n",
        "for i in range(1,n+1):\n",
        "  for j in range(1,n+1):\n",
        "    if(i==1 or i==n or j==1 or j==n):\n",
        "      print(\"*\",end= \" \")\n",
        "    else:\n",
        "      print(\"$\",end= \" \")\n",
        "  print()"
      ],
      "execution_count": null,
      "outputs": [
        {
          "output_type": "stream",
          "name": "stdout",
          "text": [
            "enter n 4\n",
            "* * * * \n",
            "* $ $ * \n",
            "* $ $ * \n",
            "* * * * \n"
          ]
        }
      ]
    },
    {
      "cell_type": "markdown",
      "metadata": {
        "id": "Qhs5tyRc3WoW"
      },
      "source": [
        "=> Number sequence program"
      ]
    },
    {
      "cell_type": "code",
      "metadata": {
        "colab": {
          "base_uri": "https://localhost:8080/"
        },
        "id": "vVcuPrF0MGxb",
        "outputId": "8c9d3089-a623-443d-caac-a295f42c6539"
      },
      "source": [
        "n=int(input())\n",
        "k=1\n",
        "for i in range(1,n+1):\n",
        "  for j in range(1,i+1):\n",
        "    print(k,end=\" \")\n",
        "    k+=1\n",
        "  print()"
      ],
      "execution_count": null,
      "outputs": [
        {
          "output_type": "stream",
          "name": "stdout",
          "text": [
            "4\n",
            "1 \n",
            "2 3 \n",
            "4 5 6 \n",
            "7 8 9 10 \n"
          ]
        }
      ]
    },
    {
      "cell_type": "markdown",
      "metadata": {
        "id": "evWnTOZd3LXB"
      },
      "source": [
        "0's and 1's rows program"
      ]
    },
    {
      "cell_type": "code",
      "metadata": {
        "colab": {
          "base_uri": "https://localhost:8080/"
        },
        "id": "QKs-f1Y_NbUE",
        "outputId": "fa16a096-c3ab-4d83-c3a5-7ad343931ff7"
      },
      "source": [
        "n=int(input())\n",
        "for i in range(1,n+1):\n",
        "  for j in range(1,i+1):\n",
        "    if i%2==0:\n",
        "      print(0,end=\" \")\n",
        "    else:\n",
        "      print(1,end=\" \")\n",
        "  print()\n"
      ],
      "execution_count": null,
      "outputs": [
        {
          "output_type": "stream",
          "name": "stdout",
          "text": [
            "5\n",
            "1 \n",
            "0 0 \n",
            "1 1 1 \n",
            "0 0 0 0 \n",
            "1 1 1 1 1 \n"
          ]
        }
      ]
    },
    {
      "cell_type": "code",
      "metadata": {
        "colab": {
          "base_uri": "https://localhost:8080/"
        },
        "id": "oKzwES0_Pb96",
        "outputId": "cc4b47a2-7e53-42d4-fb25-f1fdc258b9fc"
      },
      "source": [
        "print(ord(\"A\"))"
      ],
      "execution_count": null,
      "outputs": [
        {
          "output_type": "stream",
          "name": "stdout",
          "text": [
            "97\n"
          ]
        }
      ]
    },
    {
      "cell_type": "markdown",
      "metadata": {
        "id": "qpD7Tj6m3ATE"
      },
      "source": [
        "=> ASCII alphabet order"
      ]
    },
    {
      "cell_type": "code",
      "metadata": {
        "colab": {
          "base_uri": "https://localhost:8080/"
        },
        "id": "HykckqE-PxjK",
        "outputId": "24b740ee-96a4-4d51-c249-99c664aee4f8"
      },
      "source": [
        "n=int(input())\n",
        "a=\"a\"\n",
        "for i in range(65,n+1):\n",
        "  for j in range(65,i+1):\n",
        "    print(chr(j),end=\" \")\n",
        "  print()"
      ],
      "execution_count": null,
      "outputs": [
        {
          "output_type": "stream",
          "name": "stdout",
          "text": [
            "90\n",
            "A \n",
            "A B \n",
            "A B C \n",
            "A B C D \n",
            "A B C D E \n",
            "A B C D E F \n",
            "A B C D E F G \n",
            "A B C D E F G H \n",
            "A B C D E F G H I \n",
            "A B C D E F G H I J \n",
            "A B C D E F G H I J K \n",
            "A B C D E F G H I J K L \n",
            "A B C D E F G H I J K L M \n",
            "A B C D E F G H I J K L M N \n",
            "A B C D E F G H I J K L M N O \n",
            "A B C D E F G H I J K L M N O P \n",
            "A B C D E F G H I J K L M N O P Q \n",
            "A B C D E F G H I J K L M N O P Q R \n",
            "A B C D E F G H I J K L M N O P Q R S \n",
            "A B C D E F G H I J K L M N O P Q R S T \n",
            "A B C D E F G H I J K L M N O P Q R S T U \n",
            "A B C D E F G H I J K L M N O P Q R S T U V \n",
            "A B C D E F G H I J K L M N O P Q R S T U V W \n",
            "A B C D E F G H I J K L M N O P Q R S T U V W X \n",
            "A B C D E F G H I J K L M N O P Q R S T U V W X Y \n",
            "A B C D E F G H I J K L M N O P Q R S T U V W X Y Z \n"
          ]
        }
      ]
    },
    {
      "cell_type": "markdown",
      "metadata": {
        "id": "kg8GiVVF2tUr"
      },
      "source": [
        "=> Factorial pattern"
      ]
    },
    {
      "cell_type": "code",
      "metadata": {
        "colab": {
          "base_uri": "https://localhost:8080/"
        },
        "id": "XDLSwQaBSqTM",
        "outputId": "c1f18cae-38c5-4813-a7e3-34a36a115800"
      },
      "source": [
        "a=0\n",
        "b=1\n",
        "n=int(input(\"enter n \"))\n",
        "print(a)\n",
        "print(b)\n",
        "for i in range(3,n+1):\n",
        "  for j in range(3,i+1):\n",
        "    c=a+b\n",
        "    print(c,end=\" \")\n",
        "    a=b\n",
        "    b=c\n",
        "  print()"
      ],
      "execution_count": null,
      "outputs": [
        {
          "output_type": "stream",
          "name": "stdout",
          "text": [
            "enter n 6\n",
            "0\n",
            "1\n",
            "1 \n",
            "2 3 \n",
            "5 8 13 \n",
            "21 34 55 89 \n"
          ]
        }
      ]
    },
    {
      "cell_type": "markdown",
      "metadata": {
        "id": "F1oxX1K76isY"
      },
      "source": [
        "=> Locus program"
      ]
    },
    {
      "cell_type": "code",
      "metadata": {
        "colab": {
          "base_uri": "https://localhost:8080/"
        },
        "id": "RW6FClzOV61G",
        "outputId": "ea139fc7-be7e-4806-f42f-2a93e3860f69"
      },
      "source": [
        "#locus series\n",
        "a=1\n",
        "b=1\n",
        "c=1\n",
        "n=int(input(\"enter n \"))\n",
        "print(a)\n",
        "print(b)\n",
        "print(c)\n",
        "for i in range(4,n+1):\n",
        "    d=a+b+c\n",
        "    print(d)\n",
        "    a=b\n",
        "    b=c\n",
        "    c=d\n",
        "print()"
      ],
      "execution_count": null,
      "outputs": [
        {
          "output_type": "stream",
          "name": "stdout",
          "text": [
            "enter n 8\n",
            "1\n",
            "1\n",
            "1\n",
            "3\n",
            "5\n",
            "9\n",
            "17\n",
            "31\n",
            "\n"
          ]
        }
      ]
    },
    {
      "cell_type": "markdown",
      "metadata": {
        "id": "xKFl7bvX6wAl"
      },
      "source": [
        "=> Locus pattern"
      ]
    },
    {
      "cell_type": "code",
      "metadata": {
        "colab": {
          "base_uri": "https://localhost:8080/"
        },
        "id": "MxddquPGXBGd",
        "outputId": "9b790259-1dc0-4e1a-8ed7-c4b9895e1540"
      },
      "source": [
        "#locus series\n",
        "a=b=c=1\n",
        "n=int(input(\"enter n \"))\n",
        "print(a)\n",
        "print(b)\n",
        "print(c)\n",
        "for i in range(4,n+1):\n",
        "  for j in range(4,i+1):\n",
        "    d=a+b+c\n",
        "    print(d,end=\" \")\n",
        "    a=b\n",
        "    b=c\n",
        "    c=d\n",
        "  print()"
      ],
      "execution_count": null,
      "outputs": [
        {
          "output_type": "stream",
          "name": "stdout",
          "text": [
            "enter n 8\n",
            "1\n",
            "1\n",
            "1\n",
            "3 \n",
            "5 9 \n",
            "17 31 57 \n",
            "105 193 355 653 \n",
            "1201 2209 4063 7473 13745 \n"
          ]
        }
      ]
    },
    {
      "cell_type": "markdown",
      "metadata": {
        "id": "x6ZmVQSg66CD"
      },
      "source": [
        "=> Swapping"
      ]
    },
    {
      "cell_type": "code",
      "metadata": {
        "colab": {
          "base_uri": "https://localhost:8080/"
        },
        "id": "HmCDitUUXjt0",
        "outputId": "b66d685a-900f-4330-ab3f-e5217d8752f6"
      },
      "source": [
        "a=2\n",
        "b=3\n",
        "print(a,b)\n",
        "c=a\n",
        "a=b\n",
        "b=c\n",
        "print(a,b)"
      ],
      "execution_count": null,
      "outputs": [
        {
          "output_type": "stream",
          "name": "stdout",
          "text": [
            "2 3\n",
            "3 2\n"
          ]
        }
      ]
    },
    {
      "cell_type": "code",
      "metadata": {
        "colab": {
          "base_uri": "https://localhost:8080/"
        },
        "id": "gRBn1KzpYEj8",
        "outputId": "d8ac4084-7bc5-4b17-e944-36d25e39fc03"
      },
      "source": [
        "a=2\n",
        "b=3\n",
        "print(a,b)\n",
        "a,b=b,a\n",
        "print(a,b)"
      ],
      "execution_count": null,
      "outputs": [
        {
          "output_type": "stream",
          "name": "stdout",
          "text": [
            "2 3\n",
            "3 2\n"
          ]
        }
      ]
    },
    {
      "cell_type": "code",
      "metadata": {
        "colab": {
          "base_uri": "https://localhost:8080/"
        },
        "id": "8pWXPdK1YNPj",
        "outputId": "f8643eb6-3a76-4431-996b-eb65b75fab8a"
      },
      "source": [
        "a=2\n",
        "b=3\n",
        "print(a,b)\n",
        "a=a+b\n",
        "b=a-b\n",
        "a=a-b\n",
        "print(a,b)"
      ],
      "execution_count": null,
      "outputs": [
        {
          "output_type": "stream",
          "name": "stdout",
          "text": [
            "2 3\n",
            "3 2\n"
          ]
        }
      ]
    },
    {
      "cell_type": "markdown",
      "metadata": {
        "id": "gaXHcGF27Gw7"
      },
      "source": [
        "=> Print natural numbers using while"
      ]
    },
    {
      "cell_type": "code",
      "metadata": {
        "colab": {
          "base_uri": "https://localhost:8080/"
        },
        "id": "kPETR3cmYt_b",
        "outputId": "61133bbe-af7a-459a-ad08-7655406755f1"
      },
      "source": [
        "n=int(input(\"enter n \"))\n",
        "i=1\n",
        "while i<=n:\n",
        "  print(i)\n",
        "  i+=1"
      ],
      "execution_count": null,
      "outputs": [
        {
          "output_type": "stream",
          "name": "stdout",
          "text": [
            "enter n 5\n",
            "1\n",
            "2\n",
            "3\n",
            "4\n",
            "5\n"
          ]
        }
      ]
    },
    {
      "cell_type": "markdown",
      "metadata": {
        "id": "L5vQExnZ7Rgd"
      },
      "source": [
        "=> Print odd numbers using while"
      ]
    },
    {
      "cell_type": "code",
      "metadata": {
        "colab": {
          "base_uri": "https://localhost:8080/"
        },
        "id": "r4EgsWwKZPxM",
        "outputId": "b5313b0a-864c-4830-a02a-b1ad61c8a960"
      },
      "source": [
        "n=10\n",
        "i=1\n",
        "while i<=n:\n",
        "  print(i)\n",
        "  i+=2"
      ],
      "execution_count": null,
      "outputs": [
        {
          "output_type": "stream",
          "name": "stdout",
          "text": [
            "1\n",
            "3\n",
            "5\n",
            "7\n",
            "9\n"
          ]
        }
      ]
    },
    {
      "cell_type": "markdown",
      "metadata": {
        "id": "1EjBbp4J7X49"
      },
      "source": [
        "=> Cross \"*\" pattern"
      ]
    },
    {
      "cell_type": "code",
      "metadata": {
        "colab": {
          "base_uri": "https://localhost:8080/"
        },
        "id": "xYLu4w5d-hox",
        "outputId": "bd618766-89a4-45e9-ef16-1b8b801f68d4"
      },
      "source": [
        "n = int(input('Enter the value of n: '))\n",
        "\n",
        "for i in range(1,2*n):\n",
        "    for j in range(1,2*n):\n",
        "        if i==j or i+j==2*n:\n",
        "            print('*', end=' ')\n",
        "        else:\n",
        "            print(' ', end=' ')\n",
        "    print()"
      ],
      "execution_count": null,
      "outputs": [
        {
          "output_type": "stream",
          "name": "stdout",
          "text": [
            "Enter the value of n: 3\n",
            "*       * \n",
            "  *   *   \n",
            "    *     \n",
            "  *   *   \n",
            "*       * \n"
          ]
        }
      ]
    },
    {
      "cell_type": "markdown",
      "metadata": {
        "id": "tYyfy8JP7hCs"
      },
      "source": [
        "=> Cross \"*\" pattern where n is odd"
      ]
    },
    {
      "cell_type": "code",
      "metadata": {
        "colab": {
          "base_uri": "https://localhost:8080/"
        },
        "id": "w3SPIo5VO2tP",
        "outputId": "7106829b-3ee8-4927-fa7e-394d3174daeb"
      },
      "source": [
        "\n",
        "n = int(input('Enter n: '))\n",
        "for i in range(0,n):\n",
        "    for j in range(0,n):\n",
        "        if(i==j or i+j==n-1):\n",
        "            print('*', end=' ')\n",
        "        else:\n",
        "            print(' ', end=' ')\n",
        "    print()"
      ],
      "execution_count": null,
      "outputs": [
        {
          "output_type": "stream",
          "name": "stdout",
          "text": [
            "Enter n: 5\n",
            "*       * \n",
            "  *   *   \n",
            "    *     \n",
            "  *   *   \n",
            "*       * \n"
          ]
        }
      ]
    },
    {
      "cell_type": "code",
      "metadata": {
        "colab": {
          "base_uri": "https://localhost:8080/"
        },
        "id": "H24DnlWFy2BJ",
        "outputId": "5ac87e6e-dc8d-4b27-e476-b544b5151b9f"
      },
      "source": [
        "a={}\n",
        "print(type(a))"
      ],
      "execution_count": null,
      "outputs": [
        {
          "output_type": "stream",
          "name": "stdout",
          "text": [
            "<class 'dict'>\n"
          ]
        }
      ]
    },
    {
      "cell_type": "code",
      "metadata": {
        "colab": {
          "base_uri": "https://localhost:8080/"
        },
        "id": "YXIHWzMQ9nne",
        "outputId": "55433a76-32a5-4493-fb0d-3ece631b6b6f"
      },
      "source": [
        "a=()\n",
        "print(type(a))"
      ],
      "execution_count": null,
      "outputs": [
        {
          "output_type": "stream",
          "name": "stdout",
          "text": [
            "<class 'tuple'>\n"
          ]
        }
      ]
    }
  ]
}